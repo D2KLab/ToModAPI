{
 "cells": [
  {
   "cell_type": "code",
   "execution_count": 1,
   "metadata": {
    "pycharm": {
     "is_executing": true
    }
   },
   "outputs": [
    {
     "name": "stderr",
     "output_type": "stream",
     "text": [
      "Using TensorFlow backend.\n"
     ]
    }
   ],
   "source": [
    "import sys\n",
    "import time\n",
    "import json \n",
    "import pandas as pd\n",
    "from app.builtin import *\n",
    "\n",
    "sys.path.append('../app')  # for let gsdmm to work"
   ]
  },
  {
   "cell_type": "code",
   "execution_count": 2,
   "metadata": {
    "pycharm": {
     "is_executing": false,
     "name": "#%%\n"
    }
   },
   "outputs": [],
   "source": [
    "models= {\n",
    "    'ntm': NtmModel,\n",
    "    'lda': LdaModel,\n",
    "    'lftm': LftmModel,\n",
    "    'gsdmm': GsdmmModel\n",
    "}"
   ]
  },
  {
   "cell_type": "markdown",
   "metadata": {},
   "source": [
    "# 20 NG Dataset"
   ]
  },
  {
   "cell_type": "code",
   "execution_count": 3,
   "metadata": {
    "pycharm": {
     "is_executing": false,
     "name": "#%%\n"
    }
   },
   "outputs": [],
   "source": [
    "dataset = '../data/20ng.txt'\n",
    "labels = '../data/20ng_labels.txt'"
   ]
  },
  {
   "cell_type": "code",
   "execution_count": 4,
   "metadata": {
    "pycharm": {
     "is_executing": false,
     "name": "#%%\n"
    }
   },
   "outputs": [
    {
     "data": {
      "text/plain": [
       "['rec.autos',\n",
       " 'comp.sys.mac.hardware',\n",
       " 'comp.sys.mac.hardware',\n",
       " 'comp.graphics',\n",
       " 'sci.space',\n",
       " 'talk.politics.guns',\n",
       " 'sci.med',\n",
       " 'comp.sys.ibm.pc.hardware',\n",
       " 'comp.os.ms-windows.misc',\n",
       " 'comp.sys.mac.hardware']"
      ]
     },
     "execution_count": 4,
     "metadata": {},
     "output_type": "execute_result"
    }
   ],
   "source": [
    "with open(labels, \"r\") as datafile:\n",
    "    true_topics = [line.rstrip() for line in datafile if line]\n",
    "true_topics[0:10]"
   ]
  },
  {
   "cell_type": "code",
   "execution_count": 31,
   "metadata": {
    "pycharm": {
     "is_executing": false,
     "name": "#%%\n"
    }
   },
   "outputs": [
    {
     "name": "stdout",
     "output_type": "stream",
     "text": [
      "ntm\n"
     ]
    },
    {
     "name": "stderr",
     "output_type": "stream",
     "text": [
      "/Users/pasquale/git/ted-talk-topic-extraction/app/builtin/doc2topic/models.py:18: RuntimeWarning: invalid value encountered in true_divide\n",
      "  L1normalize = (lambda x: x/L1(x))\n"
     ]
    },
    {
     "name": "stdout",
     "output_type": "stream",
     "text": [
      "Done in 14.28440809249878\n",
      "lda\n",
      "Done in 4.146892070770264\n",
      "lftm\n",
      "Done in 3.477168083190918\n",
      "gsdmm\n",
      "Done in 24.56701111793518\n"
     ]
    }
   ],
   "source": [
    "results = {}\n",
    "for name, model in models.items():\n",
    "    start = time.time()\n",
    "    m = model()\n",
    "    print(name)\n",
    "    if name == 'gsdmm':\n",
    "        m.corpus = dataset\n",
    "    results[name] = m.get_corpus_predictions()\n",
    "    dur = time.time() - start\n",
    "    print('Done in ' + str(dur))"
   ]
  },
  {
   "cell_type": "code",
   "execution_count": 33,
   "metadata": {
    "pycharm": {
     "is_executing": false,
     "name": "#%%\n"
    }
   },
   "outputs": [
    {
     "ename": "ValueError",
     "evalue": "Length of values does not match length of index",
     "output_type": "error",
     "traceback": [
      "\u001b[0;31m---------------------------------------------------------------------------\u001b[0m",
      "\u001b[0;31mValueError\u001b[0m                                Traceback (most recent call last)",
      "\u001b[0;32m<ipython-input-33-f3367fb13e80>\u001b[0m in \u001b[0;36m<module>\u001b[0;34m\u001b[0m\n\u001b[1;32m      5\u001b[0m     \u001b[0;32mfor\u001b[0m \u001b[0mi\u001b[0m \u001b[0;32min\u001b[0m \u001b[0mrange\u001b[0m\u001b[0;34m(\u001b[0m\u001b[0;36m0\u001b[0m\u001b[0;34m,\u001b[0m\u001b[0;36m3\u001b[0m\u001b[0;34m)\u001b[0m\u001b[0;34m:\u001b[0m\u001b[0;34m\u001b[0m\u001b[0;34m\u001b[0m\u001b[0m\n\u001b[1;32m      6\u001b[0m         \u001b[0mkey\u001b[0m\u001b[0;34m,\u001b[0m \u001b[0mvalue\u001b[0m \u001b[0;34m=\u001b[0m \u001b[0mzip\u001b[0m\u001b[0;34m(\u001b[0m\u001b[0;34m*\u001b[0m\u001b[0;34m[\u001b[0m\u001b[0mx\u001b[0m\u001b[0;34m[\u001b[0m\u001b[0mi\u001b[0m\u001b[0;34m]\u001b[0m \u001b[0;32mif\u001b[0m \u001b[0mlen\u001b[0m\u001b[0;34m(\u001b[0m\u001b[0mx\u001b[0m\u001b[0;34m)\u001b[0m \u001b[0;34m>\u001b[0m \u001b[0mi\u001b[0m \u001b[0;32melse\u001b[0m \u001b[0;34m(\u001b[0m\u001b[0;34m-\u001b[0m\u001b[0;36m1\u001b[0m\u001b[0;34m,\u001b[0m \u001b[0;34m-\u001b[0m\u001b[0;36m1\u001b[0m\u001b[0;34m)\u001b[0m \u001b[0;32mfor\u001b[0m \u001b[0mx\u001b[0m \u001b[0;32min\u001b[0m \u001b[0mr\u001b[0m\u001b[0;34m]\u001b[0m\u001b[0;34m)\u001b[0m\u001b[0;34m\u001b[0m\u001b[0;34m\u001b[0m\u001b[0m\n\u001b[0;32m----> 7\u001b[0;31m         \u001b[0mdf\u001b[0m\u001b[0;34m[\u001b[0m\u001b[0;34m'%s_topic_%d'\u001b[0m\u001b[0;34m%\u001b[0m\u001b[0;34m(\u001b[0m\u001b[0mname\u001b[0m\u001b[0;34m,\u001b[0m\u001b[0mi\u001b[0m\u001b[0;34m)\u001b[0m\u001b[0;34m]\u001b[0m \u001b[0;34m=\u001b[0m \u001b[0mkey\u001b[0m\u001b[0;34m\u001b[0m\u001b[0;34m\u001b[0m\u001b[0m\n\u001b[0m\u001b[1;32m      8\u001b[0m         \u001b[0mdf\u001b[0m\u001b[0;34m[\u001b[0m\u001b[0;34m'%s_score_%d'\u001b[0m\u001b[0;34m%\u001b[0m\u001b[0;34m(\u001b[0m\u001b[0mname\u001b[0m\u001b[0;34m,\u001b[0m\u001b[0mi\u001b[0m\u001b[0;34m)\u001b[0m\u001b[0;34m]\u001b[0m \u001b[0;34m=\u001b[0m \u001b[0mvalue\u001b[0m\u001b[0;34m\u001b[0m\u001b[0;34m\u001b[0m\u001b[0m\n\u001b[1;32m      9\u001b[0m \u001b[0mdf\u001b[0m\u001b[0;34m\u001b[0m\u001b[0;34m\u001b[0m\u001b[0m\n",
      "\u001b[0;32m/usr/local/lib/python3.7/site-packages/pandas/core/frame.py\u001b[0m in \u001b[0;36m__setitem__\u001b[0;34m(self, key, value)\u001b[0m\n\u001b[1;32m   2936\u001b[0m         \u001b[0;32melse\u001b[0m\u001b[0;34m:\u001b[0m\u001b[0;34m\u001b[0m\u001b[0;34m\u001b[0m\u001b[0m\n\u001b[1;32m   2937\u001b[0m             \u001b[0;31m# set column\u001b[0m\u001b[0;34m\u001b[0m\u001b[0;34m\u001b[0m\u001b[0;34m\u001b[0m\u001b[0m\n\u001b[0;32m-> 2938\u001b[0;31m             \u001b[0mself\u001b[0m\u001b[0;34m.\u001b[0m\u001b[0m_set_item\u001b[0m\u001b[0;34m(\u001b[0m\u001b[0mkey\u001b[0m\u001b[0;34m,\u001b[0m \u001b[0mvalue\u001b[0m\u001b[0;34m)\u001b[0m\u001b[0;34m\u001b[0m\u001b[0;34m\u001b[0m\u001b[0m\n\u001b[0m\u001b[1;32m   2939\u001b[0m \u001b[0;34m\u001b[0m\u001b[0m\n\u001b[1;32m   2940\u001b[0m     \u001b[0;32mdef\u001b[0m \u001b[0m_setitem_slice\u001b[0m\u001b[0;34m(\u001b[0m\u001b[0mself\u001b[0m\u001b[0;34m,\u001b[0m \u001b[0mkey\u001b[0m\u001b[0;34m,\u001b[0m \u001b[0mvalue\u001b[0m\u001b[0;34m)\u001b[0m\u001b[0;34m:\u001b[0m\u001b[0;34m\u001b[0m\u001b[0;34m\u001b[0m\u001b[0m\n",
      "\u001b[0;32m/usr/local/lib/python3.7/site-packages/pandas/core/frame.py\u001b[0m in \u001b[0;36m_set_item\u001b[0;34m(self, key, value)\u001b[0m\n\u001b[1;32m   2998\u001b[0m \u001b[0;34m\u001b[0m\u001b[0m\n\u001b[1;32m   2999\u001b[0m         \u001b[0mself\u001b[0m\u001b[0;34m.\u001b[0m\u001b[0m_ensure_valid_index\u001b[0m\u001b[0;34m(\u001b[0m\u001b[0mvalue\u001b[0m\u001b[0;34m)\u001b[0m\u001b[0;34m\u001b[0m\u001b[0;34m\u001b[0m\u001b[0m\n\u001b[0;32m-> 3000\u001b[0;31m         \u001b[0mvalue\u001b[0m \u001b[0;34m=\u001b[0m \u001b[0mself\u001b[0m\u001b[0;34m.\u001b[0m\u001b[0m_sanitize_column\u001b[0m\u001b[0;34m(\u001b[0m\u001b[0mkey\u001b[0m\u001b[0;34m,\u001b[0m \u001b[0mvalue\u001b[0m\u001b[0;34m)\u001b[0m\u001b[0;34m\u001b[0m\u001b[0;34m\u001b[0m\u001b[0m\n\u001b[0m\u001b[1;32m   3001\u001b[0m         \u001b[0mNDFrame\u001b[0m\u001b[0;34m.\u001b[0m\u001b[0m_set_item\u001b[0m\u001b[0;34m(\u001b[0m\u001b[0mself\u001b[0m\u001b[0;34m,\u001b[0m \u001b[0mkey\u001b[0m\u001b[0;34m,\u001b[0m \u001b[0mvalue\u001b[0m\u001b[0;34m)\u001b[0m\u001b[0;34m\u001b[0m\u001b[0;34m\u001b[0m\u001b[0m\n\u001b[1;32m   3002\u001b[0m \u001b[0;34m\u001b[0m\u001b[0m\n",
      "\u001b[0;32m/usr/local/lib/python3.7/site-packages/pandas/core/frame.py\u001b[0m in \u001b[0;36m_sanitize_column\u001b[0;34m(self, key, value, broadcast)\u001b[0m\n\u001b[1;32m   3634\u001b[0m \u001b[0;34m\u001b[0m\u001b[0m\n\u001b[1;32m   3635\u001b[0m             \u001b[0;31m# turn me into an ndarray\u001b[0m\u001b[0;34m\u001b[0m\u001b[0;34m\u001b[0m\u001b[0;34m\u001b[0m\u001b[0m\n\u001b[0;32m-> 3636\u001b[0;31m             \u001b[0mvalue\u001b[0m \u001b[0;34m=\u001b[0m \u001b[0msanitize_index\u001b[0m\u001b[0;34m(\u001b[0m\u001b[0mvalue\u001b[0m\u001b[0;34m,\u001b[0m \u001b[0mself\u001b[0m\u001b[0;34m.\u001b[0m\u001b[0mindex\u001b[0m\u001b[0;34m,\u001b[0m \u001b[0mcopy\u001b[0m\u001b[0;34m=\u001b[0m\u001b[0;32mFalse\u001b[0m\u001b[0;34m)\u001b[0m\u001b[0;34m\u001b[0m\u001b[0;34m\u001b[0m\u001b[0m\n\u001b[0m\u001b[1;32m   3637\u001b[0m             \u001b[0;32mif\u001b[0m \u001b[0;32mnot\u001b[0m \u001b[0misinstance\u001b[0m\u001b[0;34m(\u001b[0m\u001b[0mvalue\u001b[0m\u001b[0;34m,\u001b[0m \u001b[0;34m(\u001b[0m\u001b[0mnp\u001b[0m\u001b[0;34m.\u001b[0m\u001b[0mndarray\u001b[0m\u001b[0;34m,\u001b[0m \u001b[0mIndex\u001b[0m\u001b[0;34m)\u001b[0m\u001b[0;34m)\u001b[0m\u001b[0;34m:\u001b[0m\u001b[0;34m\u001b[0m\u001b[0;34m\u001b[0m\u001b[0m\n\u001b[1;32m   3638\u001b[0m                 \u001b[0;32mif\u001b[0m \u001b[0misinstance\u001b[0m\u001b[0;34m(\u001b[0m\u001b[0mvalue\u001b[0m\u001b[0;34m,\u001b[0m \u001b[0mlist\u001b[0m\u001b[0;34m)\u001b[0m \u001b[0;32mand\u001b[0m \u001b[0mlen\u001b[0m\u001b[0;34m(\u001b[0m\u001b[0mvalue\u001b[0m\u001b[0;34m)\u001b[0m \u001b[0;34m>\u001b[0m \u001b[0;36m0\u001b[0m\u001b[0;34m:\u001b[0m\u001b[0;34m\u001b[0m\u001b[0;34m\u001b[0m\u001b[0m\n",
      "\u001b[0;32m/usr/local/lib/python3.7/site-packages/pandas/core/internals/construction.py\u001b[0m in \u001b[0;36msanitize_index\u001b[0;34m(data, index, copy)\u001b[0m\n\u001b[1;32m    609\u001b[0m \u001b[0;34m\u001b[0m\u001b[0m\n\u001b[1;32m    610\u001b[0m     \u001b[0;32mif\u001b[0m \u001b[0mlen\u001b[0m\u001b[0;34m(\u001b[0m\u001b[0mdata\u001b[0m\u001b[0;34m)\u001b[0m \u001b[0;34m!=\u001b[0m \u001b[0mlen\u001b[0m\u001b[0;34m(\u001b[0m\u001b[0mindex\u001b[0m\u001b[0;34m)\u001b[0m\u001b[0;34m:\u001b[0m\u001b[0;34m\u001b[0m\u001b[0;34m\u001b[0m\u001b[0m\n\u001b[0;32m--> 611\u001b[0;31m         \u001b[0;32mraise\u001b[0m \u001b[0mValueError\u001b[0m\u001b[0;34m(\u001b[0m\u001b[0;34m\"Length of values does not match length of index\"\u001b[0m\u001b[0;34m)\u001b[0m\u001b[0;34m\u001b[0m\u001b[0;34m\u001b[0m\u001b[0m\n\u001b[0m\u001b[1;32m    612\u001b[0m \u001b[0;34m\u001b[0m\u001b[0m\n\u001b[1;32m    613\u001b[0m     \u001b[0;32mif\u001b[0m \u001b[0misinstance\u001b[0m\u001b[0;34m(\u001b[0m\u001b[0mdata\u001b[0m\u001b[0;34m,\u001b[0m \u001b[0mABCIndexClass\u001b[0m\u001b[0;34m)\u001b[0m \u001b[0;32mand\u001b[0m \u001b[0;32mnot\u001b[0m \u001b[0mcopy\u001b[0m\u001b[0;34m:\u001b[0m\u001b[0;34m\u001b[0m\u001b[0;34m\u001b[0m\u001b[0m\n",
      "\u001b[0;31mValueError\u001b[0m: Length of values does not match length of index"
     ]
    }
   ],
   "source": [
    "df = pd.DataFrame()\n",
    "df['true'] = true_topics\n",
    "for name, model in models.items():\n",
    "    r = results[name]\n",
    "    for i in range(0,3):\n",
    "        key, value = zip(*[x[i] if len(x) > i else (-1, -1) for x in r])\n",
    "        df['%s_topic_%d'%(name,i)] = key\n",
    "        df['%s_score_%d'%(name,i)] = value\n",
    "df"
   ]
  },
  {
   "cell_type": "code",
   "execution_count": 7,
   "metadata": {},
   "outputs": [],
   "source": [
    "df.index.name = 'id'\n",
    "df.to_csv('./out/predictions_20ng.csv')"
   ]
  },
  {
   "cell_type": "code",
   "execution_count": 8,
   "metadata": {},
   "outputs": [],
   "source": [
    "for name, model in models.items():\n",
    "    m = model()\n",
    "    with open('./out/'+name+'_topics_20ng.json', 'w') as file:\n",
    "        json.dump(m.topics(), file)"
   ]
  },
  {
   "cell_type": "markdown",
   "metadata": {},
   "source": [
    "# AFP dataset"
   ]
  },
  {
   "cell_type": "code",
   "execution_count": 3,
   "metadata": {},
   "outputs": [],
   "source": [
    "dataset = '../data/afp.txt'\n",
    "labels = '../data/afp_labels.txt'"
   ]
  },
  {
   "cell_type": "code",
   "execution_count": 4,
   "metadata": {},
   "outputs": [
    {
     "data": {
      "text/plain": [
       "[',,',\n",
       " '13000000,13007000 13006000 13008000,',\n",
       " '11000000,11014000 11001000 11002000 11006000,',\n",
       " '11000000,11014000 11001000 11002000 11006000,',\n",
       " '11000000,11014000 11001000 11002000 11006000,',\n",
       " '11000000,11014000 11001000 11002000 11006000,',\n",
       " '15000000,,',\n",
       " '11000000,11014000 11001000 11002000 11006000,',\n",
       " '02000000,02003000 02001000 16001000,02003001',\n",
       " '15000000,15054000,']"
      ]
     },
     "execution_count": 4,
     "metadata": {},
     "output_type": "execute_result"
    }
   ],
   "source": [
    "with open(labels, \"r\") as datafile:\n",
    "    true_topics = [line.rstrip() for line in datafile if line]\n",
    "true_topics[0:10]"
   ]
  },
  {
   "cell_type": "code",
   "execution_count": 5,
   "metadata": {},
   "outputs": [
    {
     "data": {
      "text/plain": [
       "('',\n",
       " '13000000',\n",
       " '11000000',\n",
       " '11000000',\n",
       " '11000000',\n",
       " '11000000',\n",
       " '15000000',\n",
       " '11000000',\n",
       " '02000000',\n",
       " '15000000')"
      ]
     },
     "execution_count": 5,
     "metadata": {},
     "output_type": "execute_result"
    }
   ],
   "source": [
    "true1, true2, true3 = zip(*[line.split(',') for line in true_topics])\n",
    "true1[0:10]"
   ]
  },
  {
   "cell_type": "code",
   "execution_count": 6,
   "metadata": {},
   "outputs": [
    {
     "name": "stderr",
     "output_type": "stream",
     "text": [
      "WARNING: Logging before flag parsing goes to stderr.\n",
      "W0410 11:16:51.449277 4644371904 deprecation.py:506] From /usr/local/lib/python3.7/site-packages/tensorflow_core/python/ops/resource_variable_ops.py:1630: calling BaseResourceVariable.__init__ (from tensorflow.python.ops.resource_variable_ops) with constraint is deprecated and will be removed in a future version.\n",
      "Instructions for updating:\n",
      "If using Keras pass *_constraint arguments to layers.\n"
     ]
    },
    {
     "name": "stdout",
     "output_type": "stream",
     "text": [
      "ntm\n"
     ]
    },
    {
     "name": "stderr",
     "output_type": "stream",
     "text": [
      "W0410 11:16:51.633363 4644371904 deprecation.py:323] From /usr/local/lib/python3.7/site-packages/tensorflow_core/python/ops/nn_impl.py:183: where (from tensorflow.python.ops.array_ops) is deprecated and will be removed in a future version.\n",
      "Instructions for updating:\n",
      "Use tf.where in 2.0, which has the same broadcast rule as np.where\n",
      "W0410 11:16:52.052992 4644371904 module_wrapper.py:139] From /usr/local/lib/python3.7/site-packages/keras/backend/tensorflow_backend.py:422: The name tf.global_variables is deprecated. Please use tf.compat.v1.global_variables instead.\n",
      "\n",
      "/Users/pasquale/git/ted-talk-topic-extraction/app/builtin/doc2topic/models.py:18: RuntimeWarning: invalid value encountered in true_divide\n",
      "  L1normalize = (lambda x: x/L1(x))\n"
     ]
    },
    {
     "name": "stdout",
     "output_type": "stream",
     "text": [
      "Done in 5.643973112106323\n",
      "lda\n",
      "Done in 3.8390939235687256\n",
      "lftm\n",
      "Done in 3.3734350204467773\n",
      "gsdmm\n",
      "Done in 263.6128351688385\n"
     ]
    }
   ],
   "source": [
    "results = {}\n",
    "for name, model in models.items():\n",
    "    start = time.time()\n",
    "    m = model()\n",
    "    print(name)\n",
    "    if name == 'gsdmm':\n",
    "        m.corpus = dataset\n",
    "    results[name] = m.get_corpus_predictions()\n",
    "    dur = time.time() - start\n",
    "    print('Done in ' + str(dur))"
   ]
  },
  {
   "cell_type": "code",
   "execution_count": 7,
   "metadata": {},
   "outputs": [
    {
     "data": {
      "text/html": [
       "<div>\n",
       "<style scoped>\n",
       "    .dataframe tbody tr th:only-of-type {\n",
       "        vertical-align: middle;\n",
       "    }\n",
       "\n",
       "    .dataframe tbody tr th {\n",
       "        vertical-align: top;\n",
       "    }\n",
       "\n",
       "    .dataframe thead th {\n",
       "        text-align: right;\n",
       "    }\n",
       "</style>\n",
       "<table border=\"1\" class=\"dataframe\">\n",
       "  <thead>\n",
       "    <tr style=\"text-align: right;\">\n",
       "      <th></th>\n",
       "      <th>true</th>\n",
       "      <th>true2</th>\n",
       "      <th>true3</th>\n",
       "      <th>ntm_topic_0</th>\n",
       "      <th>ntm_score_0</th>\n",
       "      <th>ntm_topic_1</th>\n",
       "      <th>ntm_score_1</th>\n",
       "      <th>ntm_topic_2</th>\n",
       "      <th>ntm_score_2</th>\n",
       "      <th>lda_topic_0</th>\n",
       "      <th>...</th>\n",
       "      <th>lftm_topic_1</th>\n",
       "      <th>lftm_score_1</th>\n",
       "      <th>lftm_topic_2</th>\n",
       "      <th>lftm_score_2</th>\n",
       "      <th>gsdmm_topic_0</th>\n",
       "      <th>gsdmm_score_0</th>\n",
       "      <th>gsdmm_topic_1</th>\n",
       "      <th>gsdmm_score_1</th>\n",
       "      <th>gsdmm_topic_2</th>\n",
       "      <th>gsdmm_score_2</th>\n",
       "    </tr>\n",
       "  </thead>\n",
       "  <tbody>\n",
       "    <tr>\n",
       "      <th>0</th>\n",
       "      <td></td>\n",
       "      <td></td>\n",
       "      <td></td>\n",
       "      <td>9</td>\n",
       "      <td>0.342370</td>\n",
       "      <td>1</td>\n",
       "      <td>0.323482</td>\n",
       "      <td>16</td>\n",
       "      <td>0.244672</td>\n",
       "      <td>0</td>\n",
       "      <td>...</td>\n",
       "      <td>1</td>\n",
       "      <td>0.006803</td>\n",
       "      <td>2</td>\n",
       "      <td>0.006803</td>\n",
       "      <td>16</td>\n",
       "      <td>1.000000</td>\n",
       "      <td>10</td>\n",
       "      <td>1.872155e-10</td>\n",
       "      <td>8</td>\n",
       "      <td>5.106525e-14</td>\n",
       "    </tr>\n",
       "    <tr>\n",
       "      <th>1</th>\n",
       "      <td>13000000</td>\n",
       "      <td>13007000 13006000 13008000</td>\n",
       "      <td></td>\n",
       "      <td>5</td>\n",
       "      <td>0.296621</td>\n",
       "      <td>9</td>\n",
       "      <td>0.129710</td>\n",
       "      <td>1</td>\n",
       "      <td>0.121188</td>\n",
       "      <td>0</td>\n",
       "      <td>...</td>\n",
       "      <td>7</td>\n",
       "      <td>0.251570</td>\n",
       "      <td>3</td>\n",
       "      <td>0.055781</td>\n",
       "      <td>16</td>\n",
       "      <td>1.000000</td>\n",
       "      <td>10</td>\n",
       "      <td>4.297185e-18</td>\n",
       "      <td>8</td>\n",
       "      <td>1.060044e-19</td>\n",
       "    </tr>\n",
       "    <tr>\n",
       "      <th>2</th>\n",
       "      <td>11000000</td>\n",
       "      <td>11014000 11001000 11002000 11006000</td>\n",
       "      <td></td>\n",
       "      <td>13</td>\n",
       "      <td>0.694453</td>\n",
       "      <td>7</td>\n",
       "      <td>0.292373</td>\n",
       "      <td>0</td>\n",
       "      <td>0.007895</td>\n",
       "      <td>0</td>\n",
       "      <td>...</td>\n",
       "      <td>15</td>\n",
       "      <td>0.179487</td>\n",
       "      <td>2</td>\n",
       "      <td>0.094017</td>\n",
       "      <td>16</td>\n",
       "      <td>1.000000</td>\n",
       "      <td>10</td>\n",
       "      <td>1.964922e-09</td>\n",
       "      <td>8</td>\n",
       "      <td>6.808742e-13</td>\n",
       "    </tr>\n",
       "    <tr>\n",
       "      <th>3</th>\n",
       "      <td>11000000</td>\n",
       "      <td>11014000 11001000 11002000 11006000</td>\n",
       "      <td></td>\n",
       "      <td>13</td>\n",
       "      <td>0.420780</td>\n",
       "      <td>7</td>\n",
       "      <td>0.325828</td>\n",
       "      <td>8</td>\n",
       "      <td>0.231620</td>\n",
       "      <td>0</td>\n",
       "      <td>...</td>\n",
       "      <td>3</td>\n",
       "      <td>0.196262</td>\n",
       "      <td>15</td>\n",
       "      <td>0.196262</td>\n",
       "      <td>16</td>\n",
       "      <td>0.987579</td>\n",
       "      <td>10</td>\n",
       "      <td>1.135475e-02</td>\n",
       "      <td>8</td>\n",
       "      <td>1.066308e-03</td>\n",
       "    </tr>\n",
       "    <tr>\n",
       "      <th>4</th>\n",
       "      <td>11000000</td>\n",
       "      <td>11014000 11001000 11002000 11006000</td>\n",
       "      <td></td>\n",
       "      <td>7</td>\n",
       "      <td>0.413961</td>\n",
       "      <td>13</td>\n",
       "      <td>0.412301</td>\n",
       "      <td>16</td>\n",
       "      <td>0.135707</td>\n",
       "      <td>0</td>\n",
       "      <td>...</td>\n",
       "      <td>15</td>\n",
       "      <td>0.165354</td>\n",
       "      <td>10</td>\n",
       "      <td>0.086614</td>\n",
       "      <td>16</td>\n",
       "      <td>1.000000</td>\n",
       "      <td>10</td>\n",
       "      <td>6.518211e-09</td>\n",
       "      <td>8</td>\n",
       "      <td>1.216812e-13</td>\n",
       "    </tr>\n",
       "    <tr>\n",
       "      <th>...</th>\n",
       "      <td>...</td>\n",
       "      <td>...</td>\n",
       "      <td>...</td>\n",
       "      <td>...</td>\n",
       "      <td>...</td>\n",
       "      <td>...</td>\n",
       "      <td>...</td>\n",
       "      <td>...</td>\n",
       "      <td>...</td>\n",
       "      <td>...</td>\n",
       "      <td>...</td>\n",
       "      <td>...</td>\n",
       "      <td>...</td>\n",
       "      <td>...</td>\n",
       "      <td>...</td>\n",
       "      <td>...</td>\n",
       "      <td>...</td>\n",
       "      <td>...</td>\n",
       "      <td>...</td>\n",
       "      <td>...</td>\n",
       "      <td>...</td>\n",
       "    </tr>\n",
       "    <tr>\n",
       "      <th>125511</th>\n",
       "      <td>16000000</td>\n",
       "      <td>16002000 16001000</td>\n",
       "      <td></td>\n",
       "      <td>9</td>\n",
       "      <td>0.410465</td>\n",
       "      <td>2</td>\n",
       "      <td>0.200190</td>\n",
       "      <td>11</td>\n",
       "      <td>0.109299</td>\n",
       "      <td>0</td>\n",
       "      <td>...</td>\n",
       "      <td>12</td>\n",
       "      <td>0.093545</td>\n",
       "      <td>3</td>\n",
       "      <td>0.055575</td>\n",
       "      <td>16</td>\n",
       "      <td>1.000000</td>\n",
       "      <td>10</td>\n",
       "      <td>2.342492e-13</td>\n",
       "      <td>8</td>\n",
       "      <td>5.643892e-17</td>\n",
       "    </tr>\n",
       "    <tr>\n",
       "      <th>125512</th>\n",
       "      <td>01000000 08000000</td>\n",
       "      <td>01016000 08006000 01005000 01007000 01026000</td>\n",
       "      <td>08003002 08003003</td>\n",
       "      <td>10</td>\n",
       "      <td>0.280207</td>\n",
       "      <td>9</td>\n",
       "      <td>0.143741</td>\n",
       "      <td>11</td>\n",
       "      <td>0.138465</td>\n",
       "      <td>0</td>\n",
       "      <td>...</td>\n",
       "      <td>8</td>\n",
       "      <td>0.048621</td>\n",
       "      <td>3</td>\n",
       "      <td>0.045778</td>\n",
       "      <td>16</td>\n",
       "      <td>0.999997</td>\n",
       "      <td>10</td>\n",
       "      <td>2.684987e-06</td>\n",
       "      <td>8</td>\n",
       "      <td>2.386810e-12</td>\n",
       "    </tr>\n",
       "    <tr>\n",
       "      <th>125513</th>\n",
       "      <td>01000000 02000000</td>\n",
       "      <td>01026000</td>\n",
       "      <td></td>\n",
       "      <td>12</td>\n",
       "      <td>0.228517</td>\n",
       "      <td>8</td>\n",
       "      <td>0.194645</td>\n",
       "      <td>2</td>\n",
       "      <td>0.189475</td>\n",
       "      <td>0</td>\n",
       "      <td>...</td>\n",
       "      <td>5</td>\n",
       "      <td>0.071784</td>\n",
       "      <td>9</td>\n",
       "      <td>0.036247</td>\n",
       "      <td>16</td>\n",
       "      <td>1.000000</td>\n",
       "      <td>10</td>\n",
       "      <td>5.209413e-13</td>\n",
       "      <td>8</td>\n",
       "      <td>1.791036e-17</td>\n",
       "    </tr>\n",
       "    <tr>\n",
       "      <th>125514</th>\n",
       "      <td>14000000 08000000 11000000</td>\n",
       "      <td>14023000 08003000 12006000</td>\n",
       "      <td></td>\n",
       "      <td>13</td>\n",
       "      <td>0.275202</td>\n",
       "      <td>3</td>\n",
       "      <td>0.211507</td>\n",
       "      <td>12</td>\n",
       "      <td>0.205389</td>\n",
       "      <td>0</td>\n",
       "      <td>...</td>\n",
       "      <td>12</td>\n",
       "      <td>0.250592</td>\n",
       "      <td>10</td>\n",
       "      <td>0.169428</td>\n",
       "      <td>16</td>\n",
       "      <td>1.000000</td>\n",
       "      <td>10</td>\n",
       "      <td>8.215579e-08</td>\n",
       "      <td>8</td>\n",
       "      <td>2.295016e-09</td>\n",
       "    </tr>\n",
       "    <tr>\n",
       "      <th>125515</th>\n",
       "      <td>11000000 16000000</td>\n",
       "      <td>11014000 11002000</td>\n",
       "      <td></td>\n",
       "      <td>1</td>\n",
       "      <td>0.204295</td>\n",
       "      <td>11</td>\n",
       "      <td>0.203445</td>\n",
       "      <td>14</td>\n",
       "      <td>0.161406</td>\n",
       "      <td>0</td>\n",
       "      <td>...</td>\n",
       "      <td>3</td>\n",
       "      <td>0.057478</td>\n",
       "      <td>9</td>\n",
       "      <td>0.051759</td>\n",
       "      <td>16</td>\n",
       "      <td>0.999999</td>\n",
       "      <td>10</td>\n",
       "      <td>1.474232e-06</td>\n",
       "      <td>8</td>\n",
       "      <td>2.489787e-09</td>\n",
       "    </tr>\n",
       "  </tbody>\n",
       "</table>\n",
       "<p>125516 rows × 27 columns</p>\n",
       "</div>"
      ],
      "text/plain": [
       "                              true  \\\n",
       "0                                    \n",
       "1                         13000000   \n",
       "2                         11000000   \n",
       "3                         11000000   \n",
       "4                         11000000   \n",
       "...                            ...   \n",
       "125511                    16000000   \n",
       "125512           01000000 08000000   \n",
       "125513           01000000 02000000   \n",
       "125514  14000000 08000000 11000000   \n",
       "125515           11000000 16000000   \n",
       "\n",
       "                                               true2              true3  \\\n",
       "0                                                                         \n",
       "1                         13007000 13006000 13008000                      \n",
       "2                11014000 11001000 11002000 11006000                      \n",
       "3                11014000 11001000 11002000 11006000                      \n",
       "4                11014000 11001000 11002000 11006000                      \n",
       "...                                              ...                ...   \n",
       "125511                             16002000 16001000                      \n",
       "125512  01016000 08006000 01005000 01007000 01026000  08003002 08003003   \n",
       "125513                                      01026000                      \n",
       "125514                    14023000 08003000 12006000                      \n",
       "125515                             11014000 11002000                      \n",
       "\n",
       "        ntm_topic_0  ntm_score_0  ntm_topic_1  ntm_score_1  ntm_topic_2  \\\n",
       "0                 9     0.342370            1     0.323482           16   \n",
       "1                 5     0.296621            9     0.129710            1   \n",
       "2                13     0.694453            7     0.292373            0   \n",
       "3                13     0.420780            7     0.325828            8   \n",
       "4                 7     0.413961           13     0.412301           16   \n",
       "...             ...          ...          ...          ...          ...   \n",
       "125511            9     0.410465            2     0.200190           11   \n",
       "125512           10     0.280207            9     0.143741           11   \n",
       "125513           12     0.228517            8     0.194645            2   \n",
       "125514           13     0.275202            3     0.211507           12   \n",
       "125515            1     0.204295           11     0.203445           14   \n",
       "\n",
       "        ntm_score_2  lda_topic_0  ...  lftm_topic_1  lftm_score_1  \\\n",
       "0          0.244672            0  ...             1      0.006803   \n",
       "1          0.121188            0  ...             7      0.251570   \n",
       "2          0.007895            0  ...            15      0.179487   \n",
       "3          0.231620            0  ...             3      0.196262   \n",
       "4          0.135707            0  ...            15      0.165354   \n",
       "...             ...          ...  ...           ...           ...   \n",
       "125511     0.109299            0  ...            12      0.093545   \n",
       "125512     0.138465            0  ...             8      0.048621   \n",
       "125513     0.189475            0  ...             5      0.071784   \n",
       "125514     0.205389            0  ...            12      0.250592   \n",
       "125515     0.161406            0  ...             3      0.057478   \n",
       "\n",
       "        lftm_topic_2  lftm_score_2  gsdmm_topic_0  gsdmm_score_0  \\\n",
       "0                  2      0.006803             16       1.000000   \n",
       "1                  3      0.055781             16       1.000000   \n",
       "2                  2      0.094017             16       1.000000   \n",
       "3                 15      0.196262             16       0.987579   \n",
       "4                 10      0.086614             16       1.000000   \n",
       "...              ...           ...            ...            ...   \n",
       "125511             3      0.055575             16       1.000000   \n",
       "125512             3      0.045778             16       0.999997   \n",
       "125513             9      0.036247             16       1.000000   \n",
       "125514            10      0.169428             16       1.000000   \n",
       "125515             9      0.051759             16       0.999999   \n",
       "\n",
       "        gsdmm_topic_1  gsdmm_score_1  gsdmm_topic_2  gsdmm_score_2  \n",
       "0                  10   1.872155e-10              8   5.106525e-14  \n",
       "1                  10   4.297185e-18              8   1.060044e-19  \n",
       "2                  10   1.964922e-09              8   6.808742e-13  \n",
       "3                  10   1.135475e-02              8   1.066308e-03  \n",
       "4                  10   6.518211e-09              8   1.216812e-13  \n",
       "...               ...            ...            ...            ...  \n",
       "125511             10   2.342492e-13              8   5.643892e-17  \n",
       "125512             10   2.684987e-06              8   2.386810e-12  \n",
       "125513             10   5.209413e-13              8   1.791036e-17  \n",
       "125514             10   8.215579e-08              8   2.295016e-09  \n",
       "125515             10   1.474232e-06              8   2.489787e-09  \n",
       "\n",
       "[125516 rows x 27 columns]"
      ]
     },
     "execution_count": 7,
     "metadata": {},
     "output_type": "execute_result"
    }
   ],
   "source": [
    "df = pd.DataFrame()\n",
    "df['true'] = true1\n",
    "df['true2'] = true2\n",
    "df['true3'] = true3\n",
    "for name, model in models.items():\n",
    "    r = results[name]\n",
    "    for i in range(0,3):\n",
    "        key, value = zip(*[x[i] if len(x) > i else (-1, -1) for x in r])\n",
    "        df['%s_topic_%d'%(name,i)] = key\n",
    "        df['%s_score_%d'%(name,i)] = value\n",
    "df"
   ]
  },
  {
   "cell_type": "code",
   "execution_count": 10,
   "metadata": {},
   "outputs": [],
   "source": [
    "df.index.name = 'id'\n",
    "df.to_csv('./out/predictions_afp.csv')"
   ]
  },
  {
   "cell_type": "code",
   "execution_count": 11,
   "metadata": {},
   "outputs": [],
   "source": [
    "for name, model in models.items():\n",
    "    m = model()\n",
    "    with open('./out/'+name+'_topics_afp.json', 'w') as file:\n",
    "        json.dump(m.topics(), file)"
   ]
  }
 ],
 "metadata": {
  "kernelspec": {
   "display_name": "Python 3",
   "language": "python",
   "name": "python3"
  },
  "language_info": {
   "codemirror_mode": {
    "name": "ipython",
    "version": 3
   },
   "file_extension": ".py",
   "mimetype": "text/x-python",
   "name": "python",
   "nbconvert_exporter": "python",
   "pygments_lexer": "ipython3",
   "version": "3.7.7"
  },
  "pycharm": {
   "stem_cell": {
    "cell_type": "raw",
    "metadata": {
     "collapsed": false
    },
    "source": []
   }
  }
 },
 "nbformat": 4,
 "nbformat_minor": 1
}
