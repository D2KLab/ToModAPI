{
 "cells": [
  {
   "cell_type": "code",
   "execution_count": 1,
   "metadata": {
    "pycharm": {
     "is_executing": true
    }
   },
   "outputs": [
    {
     "name": "stderr",
     "output_type": "stream",
     "text": [
      "Using TensorFlow backend.\n"
     ]
    }
   ],
   "source": [
    "import sys\n",
    "import time\n",
    "import json \n",
    "import pandas as pd\n",
    "from app.builtin import *\n",
    "\n",
    "sys.path.append('../app')  # for let gsdmm to work"
   ]
  },
  {
   "cell_type": "code",
   "execution_count": 2,
   "metadata": {
    "pycharm": {
     "is_executing": false,
     "name": "#%%\n"
    }
   },
   "outputs": [],
   "source": [
    "models= {\n",
    "    'ntm': NtmModel,\n",
    "    'lda': LdaModel,\n",
    "    'lftm': LftmModel,\n",
    "    'gsdmm': GsdmmModel\n",
    "}"
   ]
  },
  {
   "cell_type": "markdown",
   "metadata": {},
   "source": [
    "# 20 NG Dataset"
   ]
  },
  {
   "cell_type": "code",
   "execution_count": 3,
   "metadata": {
    "pycharm": {
     "is_executing": false,
     "name": "#%%\n"
    }
   },
   "outputs": [],
   "source": [
    "dataset = '../data/20ng.txt'\n",
    "labels = '../data/20ng_labels.txt'"
   ]
  },
  {
   "cell_type": "code",
   "execution_count": 4,
   "metadata": {
    "pycharm": {
     "is_executing": false,
     "name": "#%%\n"
    }
   },
   "outputs": [
    {
     "data": {
      "text/plain": [
       "['rec.autos',\n",
       " 'comp.sys.mac.hardware',\n",
       " 'comp.sys.mac.hardware',\n",
       " 'comp.graphics',\n",
       " 'sci.space',\n",
       " 'talk.politics.guns',\n",
       " 'sci.med',\n",
       " 'comp.sys.ibm.pc.hardware',\n",
       " 'comp.os.ms-windows.misc',\n",
       " 'comp.sys.mac.hardware']"
      ]
     },
     "execution_count": 4,
     "metadata": {},
     "output_type": "execute_result"
    }
   ],
   "source": [
    "with open(labels, \"r\") as datafile:\n",
    "    true_topics = [line.rstrip() for line in datafile if line]\n",
    "true_topics[0:10]"
   ]
  },
  {
   "cell_type": "code",
   "execution_count": 5,
   "metadata": {
    "pycharm": {
     "is_executing": false,
     "name": "#%%\n"
    }
   },
   "outputs": [
    {
     "name": "stderr",
     "output_type": "stream",
     "text": [
      "WARNING: Logging before flag parsing goes to stderr.\n",
      "W0416 11:20:20.768384 4401335744 deprecation.py:506] From /usr/local/lib/python3.7/site-packages/tensorflow_core/python/ops/resource_variable_ops.py:1630: calling BaseResourceVariable.__init__ (from tensorflow.python.ops.resource_variable_ops) with constraint is deprecated and will be removed in a future version.\n",
      "Instructions for updating:\n",
      "If using Keras pass *_constraint arguments to layers.\n",
      "W0416 11:20:20.926007 4401335744 deprecation.py:323] From /usr/local/lib/python3.7/site-packages/tensorflow_core/python/ops/nn_impl.py:183: where (from tensorflow.python.ops.array_ops) is deprecated and will be removed in a future version.\n",
      "Instructions for updating:\n",
      "Use tf.where in 2.0, which has the same broadcast rule as np.where\n"
     ]
    },
    {
     "name": "stdout",
     "output_type": "stream",
     "text": [
      "ntm\n"
     ]
    },
    {
     "name": "stderr",
     "output_type": "stream",
     "text": [
      "W0416 11:20:21.229547 4401335744 module_wrapper.py:139] From /usr/local/lib/python3.7/site-packages/keras/backend/tensorflow_backend.py:422: The name tf.global_variables is deprecated. Please use tf.compat.v1.global_variables instead.\n",
      "\n"
     ]
    },
    {
     "name": "stdout",
     "output_type": "stream",
     "text": [
      "Done in 1.9171209335327148\n",
      "lda\n",
      "Done in 0.5692572593688965\n",
      "lftm\n",
      "Done in 0.266970157623291\n",
      "gsdmm\n",
      "Done in 0.38367390632629395\n"
     ]
    }
   ],
   "source": [
    "results = {}\n",
    "for name, model in models.items():\n",
    "    start = time.time()\n",
    "    m = model()\n",
    "    print(name)\n",
    "    results[name] = m.get_corpus_predictions()\n",
    "    dur = time.time() - start\n",
    "    print('Done in ' + str(dur))"
   ]
  },
  {
   "cell_type": "code",
   "execution_count": 6,
   "metadata": {
    "pycharm": {
     "is_executing": false,
     "name": "#%%\n"
    }
   },
   "outputs": [
    {
     "data": {
      "text/html": [
       "<div>\n",
       "<style scoped>\n",
       "    .dataframe tbody tr th:only-of-type {\n",
       "        vertical-align: middle;\n",
       "    }\n",
       "\n",
       "    .dataframe tbody tr th {\n",
       "        vertical-align: top;\n",
       "    }\n",
       "\n",
       "    .dataframe thead th {\n",
       "        text-align: right;\n",
       "    }\n",
       "</style>\n",
       "<table border=\"1\" class=\"dataframe\">\n",
       "  <thead>\n",
       "    <tr style=\"text-align: right;\">\n",
       "      <th></th>\n",
       "      <th>true</th>\n",
       "      <th>ntm_topic_0</th>\n",
       "      <th>ntm_score_0</th>\n",
       "      <th>ntm_topic_1</th>\n",
       "      <th>ntm_score_1</th>\n",
       "      <th>ntm_topic_2</th>\n",
       "      <th>ntm_score_2</th>\n",
       "      <th>lda_topic_0</th>\n",
       "      <th>lda_score_0</th>\n",
       "      <th>lda_topic_1</th>\n",
       "      <th>...</th>\n",
       "      <th>lftm_topic_1</th>\n",
       "      <th>lftm_score_1</th>\n",
       "      <th>lftm_topic_2</th>\n",
       "      <th>lftm_score_2</th>\n",
       "      <th>gsdmm_topic_0</th>\n",
       "      <th>gsdmm_score_0</th>\n",
       "      <th>gsdmm_topic_1</th>\n",
       "      <th>gsdmm_score_1</th>\n",
       "      <th>gsdmm_topic_2</th>\n",
       "      <th>gsdmm_score_2</th>\n",
       "    </tr>\n",
       "  </thead>\n",
       "  <tbody>\n",
       "    <tr>\n",
       "      <th>0</th>\n",
       "      <td>rec.autos</td>\n",
       "      <td>11</td>\n",
       "      <td>0.227447</td>\n",
       "      <td>4</td>\n",
       "      <td>0.202119</td>\n",
       "      <td>5</td>\n",
       "      <td>0.163517</td>\n",
       "      <td>0</td>\n",
       "      <td>0.001044</td>\n",
       "      <td>1</td>\n",
       "      <td>...</td>\n",
       "      <td>3</td>\n",
       "      <td>0.220588</td>\n",
       "      <td>16</td>\n",
       "      <td>0.073529</td>\n",
       "      <td>1</td>\n",
       "      <td>0.999993</td>\n",
       "      <td>19</td>\n",
       "      <td>6.891301e-06</td>\n",
       "      <td>11</td>\n",
       "      <td>2.122357e-17</td>\n",
       "    </tr>\n",
       "    <tr>\n",
       "      <th>1</th>\n",
       "      <td>comp.sys.mac.hardware</td>\n",
       "      <td>14</td>\n",
       "      <td>0.249227</td>\n",
       "      <td>18</td>\n",
       "      <td>0.174287</td>\n",
       "      <td>0</td>\n",
       "      <td>0.165302</td>\n",
       "      <td>0</td>\n",
       "      <td>0.000661</td>\n",
       "      <td>1</td>\n",
       "      <td>...</td>\n",
       "      <td>8</td>\n",
       "      <td>0.146067</td>\n",
       "      <td>17</td>\n",
       "      <td>0.089888</td>\n",
       "      <td>1</td>\n",
       "      <td>1.000000</td>\n",
       "      <td>19</td>\n",
       "      <td>1.552614e-14</td>\n",
       "      <td>4</td>\n",
       "      <td>5.241309e-31</td>\n",
       "    </tr>\n",
       "    <tr>\n",
       "      <th>2</th>\n",
       "      <td>comp.sys.mac.hardware</td>\n",
       "      <td>7</td>\n",
       "      <td>0.333553</td>\n",
       "      <td>14</td>\n",
       "      <td>0.272124</td>\n",
       "      <td>5</td>\n",
       "      <td>0.116028</td>\n",
       "      <td>0</td>\n",
       "      <td>0.000367</td>\n",
       "      <td>1</td>\n",
       "      <td>...</td>\n",
       "      <td>10</td>\n",
       "      <td>0.160714</td>\n",
       "      <td>7</td>\n",
       "      <td>0.089286</td>\n",
       "      <td>0</td>\n",
       "      <td>0.000000</td>\n",
       "      <td>1</td>\n",
       "      <td>0.000000e+00</td>\n",
       "      <td>2</td>\n",
       "      <td>0.000000e+00</td>\n",
       "    </tr>\n",
       "    <tr>\n",
       "      <th>3</th>\n",
       "      <td>comp.graphics</td>\n",
       "      <td>16</td>\n",
       "      <td>0.254609</td>\n",
       "      <td>0</td>\n",
       "      <td>0.196284</td>\n",
       "      <td>2</td>\n",
       "      <td>0.137768</td>\n",
       "      <td>0</td>\n",
       "      <td>0.000881</td>\n",
       "      <td>1</td>\n",
       "      <td>...</td>\n",
       "      <td>19</td>\n",
       "      <td>0.098592</td>\n",
       "      <td>6</td>\n",
       "      <td>0.084507</td>\n",
       "      <td>1</td>\n",
       "      <td>1.000000</td>\n",
       "      <td>19</td>\n",
       "      <td>7.681433e-09</td>\n",
       "      <td>4</td>\n",
       "      <td>4.168175e-10</td>\n",
       "    </tr>\n",
       "    <tr>\n",
       "      <th>4</th>\n",
       "      <td>sci.space</td>\n",
       "      <td>5</td>\n",
       "      <td>0.292701</td>\n",
       "      <td>0</td>\n",
       "      <td>0.186552</td>\n",
       "      <td>10</td>\n",
       "      <td>0.141531</td>\n",
       "      <td>0</td>\n",
       "      <td>0.000629</td>\n",
       "      <td>1</td>\n",
       "      <td>...</td>\n",
       "      <td>1</td>\n",
       "      <td>0.134021</td>\n",
       "      <td>2</td>\n",
       "      <td>0.134021</td>\n",
       "      <td>19</td>\n",
       "      <td>1.000000</td>\n",
       "      <td>4</td>\n",
       "      <td>7.832201e-09</td>\n",
       "      <td>1</td>\n",
       "      <td>6.731073e-11</td>\n",
       "    </tr>\n",
       "    <tr>\n",
       "      <th>...</th>\n",
       "      <td>...</td>\n",
       "      <td>...</td>\n",
       "      <td>...</td>\n",
       "      <td>...</td>\n",
       "      <td>...</td>\n",
       "      <td>...</td>\n",
       "      <td>...</td>\n",
       "      <td>...</td>\n",
       "      <td>...</td>\n",
       "      <td>...</td>\n",
       "      <td>...</td>\n",
       "      <td>...</td>\n",
       "      <td>...</td>\n",
       "      <td>...</td>\n",
       "      <td>...</td>\n",
       "      <td>...</td>\n",
       "      <td>...</td>\n",
       "      <td>...</td>\n",
       "      <td>...</td>\n",
       "      <td>...</td>\n",
       "      <td>...</td>\n",
       "    </tr>\n",
       "    <tr>\n",
       "      <th>11309</th>\n",
       "      <td>sci.med</td>\n",
       "      <td>7</td>\n",
       "      <td>0.601212</td>\n",
       "      <td>8</td>\n",
       "      <td>0.236097</td>\n",
       "      <td>2</td>\n",
       "      <td>0.131402</td>\n",
       "      <td>0</td>\n",
       "      <td>0.000357</td>\n",
       "      <td>1</td>\n",
       "      <td>...</td>\n",
       "      <td>10</td>\n",
       "      <td>0.085714</td>\n",
       "      <td>3</td>\n",
       "      <td>0.080000</td>\n",
       "      <td>0</td>\n",
       "      <td>0.000000</td>\n",
       "      <td>1</td>\n",
       "      <td>0.000000e+00</td>\n",
       "      <td>2</td>\n",
       "      <td>0.000000e+00</td>\n",
       "    </tr>\n",
       "    <tr>\n",
       "      <th>11310</th>\n",
       "      <td>comp.sys.mac.hardware</td>\n",
       "      <td>15</td>\n",
       "      <td>0.339457</td>\n",
       "      <td>2</td>\n",
       "      <td>0.160176</td>\n",
       "      <td>19</td>\n",
       "      <td>0.155714</td>\n",
       "      <td>0</td>\n",
       "      <td>0.000862</td>\n",
       "      <td>1</td>\n",
       "      <td>...</td>\n",
       "      <td>17</td>\n",
       "      <td>0.126582</td>\n",
       "      <td>13</td>\n",
       "      <td>0.101266</td>\n",
       "      <td>1</td>\n",
       "      <td>1.000000</td>\n",
       "      <td>4</td>\n",
       "      <td>7.849075e-19</td>\n",
       "      <td>19</td>\n",
       "      <td>1.750207e-19</td>\n",
       "    </tr>\n",
       "    <tr>\n",
       "      <th>11311</th>\n",
       "      <td>comp.sys.ibm.pc.hardware</td>\n",
       "      <td>9</td>\n",
       "      <td>0.211234</td>\n",
       "      <td>14</td>\n",
       "      <td>0.181800</td>\n",
       "      <td>12</td>\n",
       "      <td>0.162045</td>\n",
       "      <td>0</td>\n",
       "      <td>0.000748</td>\n",
       "      <td>1</td>\n",
       "      <td>...</td>\n",
       "      <td>8</td>\n",
       "      <td>0.202532</td>\n",
       "      <td>3</td>\n",
       "      <td>0.088608</td>\n",
       "      <td>1</td>\n",
       "      <td>1.000000</td>\n",
       "      <td>19</td>\n",
       "      <td>8.755647e-13</td>\n",
       "      <td>4</td>\n",
       "      <td>6.851880e-28</td>\n",
       "    </tr>\n",
       "    <tr>\n",
       "      <th>11312</th>\n",
       "      <td>comp.graphics</td>\n",
       "      <td>4</td>\n",
       "      <td>0.256770</td>\n",
       "      <td>7</td>\n",
       "      <td>0.198837</td>\n",
       "      <td>16</td>\n",
       "      <td>0.172548</td>\n",
       "      <td>0</td>\n",
       "      <td>0.000558</td>\n",
       "      <td>1</td>\n",
       "      <td>...</td>\n",
       "      <td>19</td>\n",
       "      <td>0.092593</td>\n",
       "      <td>2</td>\n",
       "      <td>0.083333</td>\n",
       "      <td>4</td>\n",
       "      <td>1.000000</td>\n",
       "      <td>19</td>\n",
       "      <td>3.562953e-11</td>\n",
       "      <td>1</td>\n",
       "      <td>1.542093e-31</td>\n",
       "    </tr>\n",
       "    <tr>\n",
       "      <th>11313</th>\n",
       "      <td>rec.motorcycles</td>\n",
       "      <td>8</td>\n",
       "      <td>0.574201</td>\n",
       "      <td>0</td>\n",
       "      <td>0.424364</td>\n",
       "      <td>5</td>\n",
       "      <td>0.001435</td>\n",
       "      <td>0</td>\n",
       "      <td>0.001167</td>\n",
       "      <td>1</td>\n",
       "      <td>...</td>\n",
       "      <td>3</td>\n",
       "      <td>0.115385</td>\n",
       "      <td>17</td>\n",
       "      <td>0.076923</td>\n",
       "      <td>1</td>\n",
       "      <td>1.000000</td>\n",
       "      <td>19</td>\n",
       "      <td>5.806591e-09</td>\n",
       "      <td>4</td>\n",
       "      <td>1.059958e-19</td>\n",
       "    </tr>\n",
       "  </tbody>\n",
       "</table>\n",
       "<p>11314 rows × 25 columns</p>\n",
       "</div>"
      ],
      "text/plain": [
       "                           true  ntm_topic_0  ntm_score_0  ntm_topic_1  \\\n",
       "0                     rec.autos           11     0.227447            4   \n",
       "1         comp.sys.mac.hardware           14     0.249227           18   \n",
       "2         comp.sys.mac.hardware            7     0.333553           14   \n",
       "3                 comp.graphics           16     0.254609            0   \n",
       "4                     sci.space            5     0.292701            0   \n",
       "...                         ...          ...          ...          ...   \n",
       "11309                   sci.med            7     0.601212            8   \n",
       "11310     comp.sys.mac.hardware           15     0.339457            2   \n",
       "11311  comp.sys.ibm.pc.hardware            9     0.211234           14   \n",
       "11312             comp.graphics            4     0.256770            7   \n",
       "11313           rec.motorcycles            8     0.574201            0   \n",
       "\n",
       "       ntm_score_1  ntm_topic_2  ntm_score_2  lda_topic_0  lda_score_0  \\\n",
       "0         0.202119            5     0.163517            0     0.001044   \n",
       "1         0.174287            0     0.165302            0     0.000661   \n",
       "2         0.272124            5     0.116028            0     0.000367   \n",
       "3         0.196284            2     0.137768            0     0.000881   \n",
       "4         0.186552           10     0.141531            0     0.000629   \n",
       "...            ...          ...          ...          ...          ...   \n",
       "11309     0.236097            2     0.131402            0     0.000357   \n",
       "11310     0.160176           19     0.155714            0     0.000862   \n",
       "11311     0.181800           12     0.162045            0     0.000748   \n",
       "11312     0.198837           16     0.172548            0     0.000558   \n",
       "11313     0.424364            5     0.001435            0     0.001167   \n",
       "\n",
       "       lda_topic_1  ...  lftm_topic_1  lftm_score_1  lftm_topic_2  \\\n",
       "0                1  ...             3      0.220588            16   \n",
       "1                1  ...             8      0.146067            17   \n",
       "2                1  ...            10      0.160714             7   \n",
       "3                1  ...            19      0.098592             6   \n",
       "4                1  ...             1      0.134021             2   \n",
       "...            ...  ...           ...           ...           ...   \n",
       "11309            1  ...            10      0.085714             3   \n",
       "11310            1  ...            17      0.126582            13   \n",
       "11311            1  ...             8      0.202532             3   \n",
       "11312            1  ...            19      0.092593             2   \n",
       "11313            1  ...             3      0.115385            17   \n",
       "\n",
       "       lftm_score_2  gsdmm_topic_0  gsdmm_score_0  gsdmm_topic_1  \\\n",
       "0          0.073529              1       0.999993             19   \n",
       "1          0.089888              1       1.000000             19   \n",
       "2          0.089286              0       0.000000              1   \n",
       "3          0.084507              1       1.000000             19   \n",
       "4          0.134021             19       1.000000              4   \n",
       "...             ...            ...            ...            ...   \n",
       "11309      0.080000              0       0.000000              1   \n",
       "11310      0.101266              1       1.000000              4   \n",
       "11311      0.088608              1       1.000000             19   \n",
       "11312      0.083333              4       1.000000             19   \n",
       "11313      0.076923              1       1.000000             19   \n",
       "\n",
       "       gsdmm_score_1  gsdmm_topic_2  gsdmm_score_2  \n",
       "0       6.891301e-06             11   2.122357e-17  \n",
       "1       1.552614e-14              4   5.241309e-31  \n",
       "2       0.000000e+00              2   0.000000e+00  \n",
       "3       7.681433e-09              4   4.168175e-10  \n",
       "4       7.832201e-09              1   6.731073e-11  \n",
       "...              ...            ...            ...  \n",
       "11309   0.000000e+00              2   0.000000e+00  \n",
       "11310   7.849075e-19             19   1.750207e-19  \n",
       "11311   8.755647e-13              4   6.851880e-28  \n",
       "11312   3.562953e-11              1   1.542093e-31  \n",
       "11313   5.806591e-09              4   1.059958e-19  \n",
       "\n",
       "[11314 rows x 25 columns]"
      ]
     },
     "execution_count": 6,
     "metadata": {},
     "output_type": "execute_result"
    }
   ],
   "source": [
    "df = pd.DataFrame()\n",
    "df['true'] = true_topics\n",
    "for name, model in models.items():\n",
    "    r = results[name]\n",
    "    for i in range(0,3):\n",
    "        key, value = zip(*[x[i] if len(x) > i else (-1, -1) for x in r])\n",
    "        df['%s_topic_%d'%(name,i)] = key\n",
    "        df['%s_score_%d'%(name,i)] = value\n",
    "df"
   ]
  },
  {
   "cell_type": "code",
   "execution_count": 7,
   "metadata": {},
   "outputs": [],
   "source": [
    "df.index.name = 'id'\n",
    "df.to_csv('./out/predictions_20ng.csv')"
   ]
  },
  {
   "cell_type": "code",
   "execution_count": 8,
   "metadata": {},
   "outputs": [],
   "source": [
    "for name, model in models.items():\n",
    "    m = model()\n",
    "    with open('./out/'+name+'_topics_20ng.json', 'w') as file:\n",
    "        json.dump(m.topics(), file)"
   ]
  },
  {
   "cell_type": "markdown",
   "metadata": {},
   "source": [
    "# AFP dataset"
   ]
  },
  {
   "cell_type": "code",
   "execution_count": 3,
   "metadata": {},
   "outputs": [],
   "source": [
    "dataset = '../data/afp.txt'\n",
    "labels = '../data/afp_labels.txt'"
   ]
  },
  {
   "cell_type": "code",
   "execution_count": 4,
   "metadata": {},
   "outputs": [
    {
     "data": {
      "text/plain": [
       "[',,',\n",
       " '13000000,13007000 13006000 13008000,',\n",
       " '11000000,11014000 11001000 11002000 11006000,',\n",
       " '11000000,11014000 11001000 11002000 11006000,',\n",
       " '11000000,11014000 11001000 11002000 11006000,',\n",
       " '11000000,11014000 11001000 11002000 11006000,',\n",
       " '15000000,,',\n",
       " '11000000,11014000 11001000 11002000 11006000,',\n",
       " '02000000,02003000 02001000 16001000,02003001',\n",
       " '15000000,15054000,']"
      ]
     },
     "execution_count": 4,
     "metadata": {},
     "output_type": "execute_result"
    }
   ],
   "source": [
    "with open(labels, \"r\") as datafile:\n",
    "    true_topics = [line.rstrip() for line in datafile if line]\n",
    "true_topics[0:10]"
   ]
  },
  {
   "cell_type": "code",
   "execution_count": 5,
   "metadata": {},
   "outputs": [
    {
     "data": {
      "text/plain": [
       "('',\n",
       " '13000000',\n",
       " '11000000',\n",
       " '11000000',\n",
       " '11000000',\n",
       " '11000000',\n",
       " '15000000',\n",
       " '11000000',\n",
       " '02000000',\n",
       " '15000000')"
      ]
     },
     "execution_count": 5,
     "metadata": {},
     "output_type": "execute_result"
    }
   ],
   "source": [
    "true1, true2, true3 = zip(*[line.split(',') for line in true_topics])\n",
    "true1[0:10]"
   ]
  },
  {
   "cell_type": "code",
   "execution_count": null,
   "metadata": {},
   "outputs": [
    {
     "name": "stderr",
     "output_type": "stream",
     "text": [
      "WARNING: Logging before flag parsing goes to stderr.\n",
      "W0417 13:45:03.727105 4663692736 deprecation.py:506] From /usr/local/lib/python3.7/site-packages/tensorflow_core/python/ops/resource_variable_ops.py:1630: calling BaseResourceVariable.__init__ (from tensorflow.python.ops.resource_variable_ops) with constraint is deprecated and will be removed in a future version.\n",
      "Instructions for updating:\n",
      "If using Keras pass *_constraint arguments to layers.\n"
     ]
    },
    {
     "name": "stdout",
     "output_type": "stream",
     "text": [
      "ntm\n"
     ]
    },
    {
     "name": "stderr",
     "output_type": "stream",
     "text": [
      "W0417 13:45:03.899070 4663692736 deprecation.py:323] From /usr/local/lib/python3.7/site-packages/tensorflow_core/python/ops/nn_impl.py:183: where (from tensorflow.python.ops.array_ops) is deprecated and will be removed in a future version.\n",
      "Instructions for updating:\n",
      "Use tf.where in 2.0, which has the same broadcast rule as np.where\n",
      "W0417 13:45:04.289768 4663692736 module_wrapper.py:139] From /usr/local/lib/python3.7/site-packages/keras/backend/tensorflow_backend.py:422: The name tf.global_variables is deprecated. Please use tf.compat.v1.global_variables instead.\n",
      "\n",
      "/Users/pasquale/git/ted-talk-topic-extraction/app/builtin/doc2topic/models.py:18: RuntimeWarning: invalid value encountered in true_divide\n",
      "  L1normalize = (lambda x: x/L1(x))\n"
     ]
    },
    {
     "name": "stdout",
     "output_type": "stream",
     "text": [
      "Done in 5.400324106216431\n",
      "lda\n",
      "Done in 4.530890941619873\n",
      "lftm\n"
     ]
    }
   ],
   "source": [
    "results = {}\n",
    "for name, model in models.items():\n",
    "    start = time.time()\n",
    "    m = model()\n",
    "    print(name)\n",
    "    results[name] = m.get_corpus_predictions()\n",
    "    dur = time.time() - start\n",
    "    print('Done in ' + str(dur))"
   ]
  },
  {
   "cell_type": "code",
   "execution_count": null,
   "metadata": {},
   "outputs": [],
   "source": [
    "df = pd.DataFrame()\n",
    "df['true'] = true1\n",
    "df['true2'] = true2\n",
    "df['true3'] = true3\n",
    "for name, model in models.items():\n",
    "    r = results[name]\n",
    "    for i in range(0,3):\n",
    "        key, value = zip(*[x[i] if len(x) > i else (-1, -1) for x in r])\n",
    "        df['%s_topic_%d'%(name,i)] = key\n",
    "        df['%s_score_%d'%(name,i)] = value\n",
    "df"
   ]
  },
  {
   "cell_type": "code",
   "execution_count": null,
   "metadata": {},
   "outputs": [],
   "source": [
    "df.index.name = 'id'\n",
    "df.to_csv('./out/predictions_afp.csv')"
   ]
  },
  {
   "cell_type": "code",
   "execution_count": null,
   "metadata": {},
   "outputs": [],
   "source": [
    "for name, model in models.items():\n",
    "    m = model()\n",
    "    with open('./out/'+name+'_topics_afp.json', 'w') as file:\n",
    "        json.dump(m.topics(), file)"
   ]
  },
  {
   "cell_type": "code",
   "execution_count": null,
   "metadata": {},
   "outputs": [],
   "source": []
  }
 ],
 "metadata": {
  "kernelspec": {
   "display_name": "Python 3",
   "language": "python",
   "name": "python3"
  },
  "language_info": {
   "codemirror_mode": {
    "name": "ipython",
    "version": 3
   },
   "file_extension": ".py",
   "mimetype": "text/x-python",
   "name": "python",
   "nbconvert_exporter": "python",
   "pygments_lexer": "ipython3",
   "version": "3.7.7"
  },
  "pycharm": {
   "stem_cell": {
    "cell_type": "raw",
    "metadata": {
     "collapsed": false
    },
    "source": []
   }
  }
 },
 "nbformat": 4,
 "nbformat_minor": 1
}
