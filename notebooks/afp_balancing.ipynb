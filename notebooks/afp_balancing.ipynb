{
 "cells": [
  {
   "cell_type": "markdown",
   "metadata": {},
   "source": [
    "# AFP balanced dataset\n",
    "I want to extract from this dataset a balanced one respect to the categories in the ground truth"
   ]
  },
  {
   "cell_type": "code",
   "execution_count": 1,
   "metadata": {},
   "outputs": [],
   "source": [
    "dataset = '../data/afp.txt'\n",
    "labels = '../data/afp_labels.txt'"
   ]
  },
  {
   "cell_type": "code",
   "execution_count": 2,
   "metadata": {},
   "outputs": [
    {
     "data": {
      "text/plain": [
       "[',,',\n",
       " '13000000,13007000 13006000 13008000,',\n",
       " '11000000,11014000 11001000 11002000 11006000,',\n",
       " '11000000,11014000 11001000 11002000 11006000,',\n",
       " '11000000,11014000 11001000 11002000 11006000,',\n",
       " '11000000,11014000 11001000 11002000 11006000,',\n",
       " '15000000,,',\n",
       " '11000000,11014000 11001000 11002000 11006000,',\n",
       " '02000000,02003000 02001000 16001000,02003001',\n",
       " '15000000,15054000,']"
      ]
     },
     "execution_count": 2,
     "metadata": {},
     "output_type": "execute_result"
    }
   ],
   "source": [
    "with open(labels, \"r\") as datafile:\n",
    "    true_topics = [line.rstrip() for line in datafile if line]\n",
    "true_topics[0:10]"
   ]
  },
  {
   "cell_type": "code",
   "execution_count": 3,
   "metadata": {},
   "outputs": [
    {
     "data": {
      "text/plain": [
       "('',\n",
       " '13000000',\n",
       " '11000000',\n",
       " '11000000',\n",
       " '11000000',\n",
       " '11000000',\n",
       " '15000000',\n",
       " '11000000',\n",
       " '02000000',\n",
       " '15000000')"
      ]
     },
     "execution_count": 3,
     "metadata": {},
     "output_type": "execute_result"
    }
   ],
   "source": [
    "true1, true2, true3 = zip(*[line.split(',') for line in true_topics])\n",
    "true1[0:10]"
   ]
  },
  {
   "cell_type": "code",
   "execution_count": 4,
   "metadata": {},
   "outputs": [
    {
     "data": {
      "text/plain": [
       "Counter({'': 3542,\n",
       "         '13000000': 419,\n",
       "         '11000000': 12703,\n",
       "         '15000000': 34025,\n",
       "         '02000000': 2161,\n",
       "         'multiple': 52838,\n",
       "         '03000000': 1606,\n",
       "         '10000000': 61,\n",
       "         '08000000': 260,\n",
       "         '16000000': 5462,\n",
       "         '04000000': 9778,\n",
       "         '12000000': 196,\n",
       "         '01000000': 1509,\n",
       "         '06000000': 269,\n",
       "         '05000000': 13,\n",
       "         '17000000': 172,\n",
       "         '07000000': 335,\n",
       "         '09000000': 8,\n",
       "         '14000000': 159})"
      ]
     },
     "execution_count": 4,
     "metadata": {},
     "output_type": "execute_result"
    }
   ],
   "source": [
    "categories = [x if ' ' not in x else 'multiple' for x in true1]\n",
    "\n",
    "from collections import Counter\n",
    "counts = Counter(categories)\n",
    "counts"
   ]
  },
  {
   "cell_type": "code",
   "execution_count": 5,
   "metadata": {},
   "outputs": [],
   "source": [
    "with open(dataset, \"r\") as datafile:\n",
    "    text = [line.rstrip() for line in datafile if line]"
   ]
  },
  {
   "cell_type": "markdown",
   "metadata": {},
   "source": [
    "### Subset 1: Only mono-label entries"
   ]
  },
  {
   "cell_type": "code",
   "execution_count": 6,
   "metadata": {},
   "outputs": [
    {
     "name": "stdout",
     "output_type": "stream",
     "text": [
      "Number of classes 14\n",
      "Number of documents 69054\n"
     ]
    }
   ],
   "source": [
    "selected_idx = []\n",
    "num = 0\n",
    "for c in counts:\n",
    "    if c == '' or c == 'multiple':\n",
    "        continue\n",
    "    if counts[c] < 159:\n",
    "        continue\n",
    "    num += 1\n",
    "    indices = [i for i, x in enumerate(categories) if x == c]\n",
    "    selected_idx.extend(indices)\n",
    "\n",
    "\n",
    "print('Number of classes %d' % num)\n",
    "print('Number of documents %d' % len(selected_idx))"
   ]
  },
  {
   "cell_type": "code",
   "execution_count": 7,
   "metadata": {},
   "outputs": [],
   "source": [
    "def extract_and_write(name, dataset, idx):\n",
    "    with open(name, 'w') as f:\n",
    "        for i in idx:\n",
    "            f.write(dataset[i])\n",
    "            f.write('\\n')\n",
    "            \n",
    "extract_and_write('../data/afp_mono.txt', text, selected_idx)\n",
    "extract_and_write('../data/afp_mono_label.txt', true1, selected_idx)"
   ]
  },
  {
   "cell_type": "markdown",
   "metadata": {},
   "source": [
    "### Subset 2: Only mono-label entries, balanced"
   ]
  },
  {
   "cell_type": "code",
   "execution_count": 8,
   "metadata": {},
   "outputs": [
    {
     "name": "stdout",
     "output_type": "stream",
     "text": [
      "Number of classes 14\n",
      "Number of documents 2226\n"
     ]
    }
   ],
   "source": [
    "from random import choices\n",
    "\n",
    "balanced_idx = []\n",
    "num = 0\n",
    "for c in counts:\n",
    "    if c == '' or c == 'multiple':\n",
    "        continue\n",
    "    if counts[c] < 159:\n",
    "        continue\n",
    "    num += 1\n",
    "    indices = [i for i, x in enumerate(categories) if x == c]\n",
    "    balanced_idx.extend(choices(indices, k=159))\n",
    "\n",
    "print('Number of classes %d' % num)\n",
    "print('Number of documents %d' % len(balanced_idx))"
   ]
  },
  {
   "cell_type": "code",
   "execution_count": 9,
   "metadata": {},
   "outputs": [],
   "source": [
    "extract_and_write('../data/afp_balanced.txt', text, balanced_idx)\n",
    "extract_and_write('../data/afp_balanced_label.txt', true1, balanced_idx)"
   ]
  }
 ],
 "metadata": {
  "kernelspec": {
   "display_name": "Python 3",
   "language": "python",
   "name": "python3"
  },
  "language_info": {
   "codemirror_mode": {
    "name": "ipython",
    "version": 3
   },
   "file_extension": ".py",
   "mimetype": "text/x-python",
   "name": "python",
   "nbconvert_exporter": "python",
   "pygments_lexer": "ipython3",
   "version": "3.7.7"
  },
  "pycharm": {
   "stem_cell": {
    "cell_type": "raw",
    "metadata": {
     "collapsed": false
    },
    "source": []
   }
  }
 },
 "nbformat": 4,
 "nbformat_minor": 1
}
